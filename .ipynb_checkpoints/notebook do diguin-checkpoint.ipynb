{
 "cells": [
  {
   "cell_type": "code",
   "execution_count": 1,
   "id": "f6ec19c6",
   "metadata": {},
   "outputs": [
    {
     "ename": "ModuleNotFoundError",
     "evalue": "No module named 'geopandas'",
     "output_type": "error",
     "traceback": [
      "\u001b[1;31m---------------------------------------------------------------------------\u001b[0m",
      "\u001b[1;31mModuleNotFoundError\u001b[0m                       Traceback (most recent call last)",
      "\u001b[1;32m<ipython-input-1-1c5379c51f98>\u001b[0m in \u001b[0;36m<module>\u001b[1;34m\u001b[0m\n\u001b[0;32m      1\u001b[0m \u001b[1;32mimport\u001b[0m \u001b[0mnumpy\u001b[0m \u001b[1;32mas\u001b[0m \u001b[0mnp\u001b[0m\u001b[1;33m\u001b[0m\u001b[1;33m\u001b[0m\u001b[0m\n\u001b[0;32m      2\u001b[0m \u001b[1;32mimport\u001b[0m \u001b[0mpandas\u001b[0m \u001b[1;32mas\u001b[0m \u001b[0mpd\u001b[0m\u001b[1;33m\u001b[0m\u001b[1;33m\u001b[0m\u001b[0m\n\u001b[1;32m----> 3\u001b[1;33m \u001b[1;32mimport\u001b[0m \u001b[0mgeopandas\u001b[0m \u001b[1;32mas\u001b[0m \u001b[0mgpd\u001b[0m\u001b[1;33m\u001b[0m\u001b[1;33m\u001b[0m\u001b[0m\n\u001b[0m\u001b[0;32m      4\u001b[0m \u001b[1;32mimport\u001b[0m \u001b[0mmatplotlib\u001b[0m\u001b[1;33m.\u001b[0m\u001b[0mpyplot\u001b[0m \u001b[1;32mas\u001b[0m \u001b[0mplt\u001b[0m\u001b[1;33m\u001b[0m\u001b[1;33m\u001b[0m\u001b[0m\n\u001b[0;32m      5\u001b[0m \u001b[1;32mimport\u001b[0m \u001b[0msqlite3\u001b[0m \u001b[1;32mas\u001b[0m \u001b[0msql3\u001b[0m\u001b[1;33m\u001b[0m\u001b[1;33m\u001b[0m\u001b[0m\n",
      "\u001b[1;31mModuleNotFoundError\u001b[0m: No module named 'geopandas'"
     ]
    }
   ],
   "source": [
    "import numpy as np\n",
    "import pandas as pd\n",
    "import geopandas as gpd\n",
    "import matplotlib.pyplot as plt\n",
    "import sqlite3 as sql3\n",
    "import json\n",
    "import sqlalchemy\n"
   ]
  },
  {
   "cell_type": "code",
   "execution_count": null,
   "id": "66996fca",
   "metadata": {},
   "outputs": [],
   "source": [
    "db = gpd.read_file(\"RJ.json\")\n",
    "atlas = pd.read_csv(\"atlas.csv\")\n",
    "db = db.drop(columns=\"description\")\n",
    "db[\"name\"] = db[\"name\"].str.lower()\n",
    "municipios = db[\"name\"].unique()\n",
    "\n",
    "db"
   ]
  },
  {
   "cell_type": "code",
   "execution_count": null,
   "id": "56a20fa4",
   "metadata": {},
   "outputs": [],
   "source": [
    "atlas[\"município\"] = atlas[\"município\"].str.lower()\n",
    "atlas_rj = atlas[atlas[\"município\"].isin(municipios)]\n",
    "atlas_rj_2010 = atlas_rj[atlas_rj[\"ano\"] == 2010]\n",
    "atlas_rj_2010 = atlas_rj_2010.drop_duplicates(subset=[\"município\"])\n",
    "merged = atlas_rj_2010.merge(db, left_on=\"município\", right_on=\"name\")\n",
    "\n",
    "merged = gpd.GeoDataFrame(merged)\n",
    "merged = merged[[\"id\", \"ano\", \"município\", \"espvida\",\"geometry\"]]\n",
    "\n",
    "merged"
   ]
  },
  {
   "cell_type": "code",
   "execution_count": null,
   "id": "e78f0de4",
   "metadata": {},
   "outputs": [],
   "source": [
    "merged.plot(column='espvida', cmap='OrRd', edgecolor='k', legend=True)"
   ]
  },
  {
   "cell_type": "code",
   "execution_count": null,
   "id": "dd5d6722",
   "metadata": {},
   "outputs": [],
   "source": [
    "with open('RJ.json') as f:\n",
    "  db_2 = json.load(f)\n",
    "\n",
    "for i in range(db.index[-1] + 1):\n",
    "  db_2[\"features\"][i][\"id\"] = db_2[\"features\"][i][\"properties\"][\"id\"]\n",
    "\n",
    "db_2[\"features\"][0][\"properties\"]"
   ]
  },
  {
   "cell_type": "code",
   "execution_count": null,
   "id": "64871e37",
   "metadata": {},
   "outputs": [],
   "source": [
    "import plotly.express as px\n",
    "fig = px.choropleth_mapbox(merged, geojson=db_2, locations=\"id\", color='espvida',\n",
    "                           color_continuous_scale=\"Viridis\",\n",
    "                           mapbox_style=\"carto-positron\",\n",
    "                           zoom=6, center = {\"lat\": -22.3, \"lon\": -42},\n",
    "                           opacity=1,\n",
    "                           labels={'espvida':'espectativa de vida'}\n",
    "                          )\n",
    "fig.show()"
   ]
  },
  {
   "cell_type": "code",
   "execution_count": null,
   "id": "be6bd609",
   "metadata": {},
   "outputs": [],
   "source": [
    "db.plot()"
   ]
  },
  {
   "cell_type": "code",
   "execution_count": null,
   "id": "ba8070cf",
   "metadata": {},
   "outputs": [],
   "source": [
    "conn = sql3.connect('dados.db')\n",
    "create_sql = 'CREATE TABLE IF NOT EXISTS dadosrj (id TEXT, \\\n",
    "    ano INTEGER, \\\n",
    "    município TEXT, \\\n",
    "    espvida REAL, \\\n",
    "    geometry TEXT)'\n",
    "cursor = conn.cursor()\n",
    "cursor.execute(create_sql)"
   ]
  },
  {
   "cell_type": "code",
   "execution_count": null,
   "id": "dc0ce038",
   "metadata": {},
   "outputs": [],
   "source": [
    "for row in merged.itertuples():\n",
    "    insert_sql = f\"INSERT INTO dadosrj (id, ano, município, espvida, geometry) VALUES ('{row[1]}',{row[2]},'{row[3]}',{row[4]},'{row[5]}')\"\n",
    "    cursor.execute(insert_sql)"
   ]
  },
  {
   "cell_type": "code",
   "execution_count": null,
   "id": "0f94a7db",
   "metadata": {},
   "outputs": [],
   "source": [
    "conn.commit()"
   ]
  }
 ],
 "metadata": {
  "interpreter": {
   "hash": "9e5603305474aa4527eee68bb1bf06243978798f6970f191a6b5c9b27dcf2bf6"
  },
  "kernelspec": {
   "display_name": "Python 3",
   "language": "python",
   "name": "python3"
  },
  "language_info": {
   "codemirror_mode": {
    "name": "ipython",
    "version": 3
   },
   "file_extension": ".py",
   "mimetype": "text/x-python",
   "name": "python",
   "nbconvert_exporter": "python",
   "pygments_lexer": "ipython3",
   "version": "3.8.8"
  }
 },
 "nbformat": 4,
 "nbformat_minor": 5
}
